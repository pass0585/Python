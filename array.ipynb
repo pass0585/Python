{
 "cells": [
  {
   "cell_type": "code",
   "execution_count": 5,
   "id": "12bdf739",
   "metadata": {},
   "outputs": [
    {
     "ename": "SyntaxError",
     "evalue": "unexpected EOF while parsing (<ipython-input-5-55e5323a597b>, line 4)",
     "output_type": "error",
     "traceback": [
      "\u001b[1;36m  File \u001b[1;32m\"<ipython-input-5-55e5323a597b>\"\u001b[1;36m, line \u001b[1;32m4\u001b[0m\n\u001b[1;33m    print(\"%d %d\" %(max(num),num.index(max(num)))\u001b[0m\n\u001b[1;37m                                                 ^\u001b[0m\n\u001b[1;31mSyntaxError\u001b[0m\u001b[1;31m:\u001b[0m unexpected EOF while parsing\n"
     ]
    }
   ],
   "source": [
    "N = int(input())\n",
    "num = list(map(int,input().split()))\n",
    "\n",
    "print(\"%d %d\" %(max(num),num.index(max(num)))\n"
   ]
  },
  {
   "cell_type": "code",
   "execution_count": 9,
   "id": "9923a568",
   "metadata": {},
   "outputs": [
    {
     "name": "stdout",
     "output_type": "stream",
     "text": [
      "3\n",
      "29\n",
      "38\n",
      "12\n",
      "57\n",
      "74\n",
      "40\n",
      "85\n",
      "61\n",
      "85 8\n"
     ]
    }
   ],
   "source": [
    "num = [] \n",
    "for i in range(9): \n",
    "    a = int(input()) \n",
    "    num.append(a)\n",
    "\n",
    "print(\"%d %d\" %(max(num),num.index(max(num))+1))"
   ]
  },
  {
   "cell_type": "markdown",
   "id": "a5db9f6b",
   "metadata": {},
   "source": [
    "num = []\n",
    "for i in range(9):\n",
    "    a = int(input())\n",
    "    num.append(a)\n",
    "\n",
    "print(\"%d %d\" %(max(num),num.index(max(num))))"
   ]
  },
  {
   "cell_type": "code",
   "execution_count": 13,
   "id": "27ab0c69",
   "metadata": {},
   "outputs": [
    {
     "name": "stdout",
     "output_type": "stream",
     "text": [
      "150\n",
      "266\n",
      "427\n",
      "3\n",
      "1\n",
      "0\n",
      "2\n",
      "0\n",
      "0\n",
      "0\n",
      "2\n",
      "0\n",
      "0\n"
     ]
    }
   ],
   "source": [
    "a = int(input())\n",
    "b = int(input())\n",
    "c = int(input())\n",
    "\n",
    "ABC = list(str(a*b*c))\n",
    "\n",
    "for i in range(10):\n",
    "    print(ABC.count(str(i)))\n"
   ]
  },
  {
   "cell_type": "code",
   "execution_count": 16,
   "id": "b98d0b28",
   "metadata": {},
   "outputs": [
    {
     "name": "stdout",
     "output_type": "stream",
     "text": [
      "42\n",
      "84\n",
      "252\n",
      "420\n",
      "840\n",
      "126\n",
      "42\n",
      "84\n",
      "420\n",
      "126\n",
      "1\n"
     ]
    }
   ],
   "source": [
    "num = [] \n",
    "for i in range(10): \n",
    "    a = int(input()) \n",
    "    num.append(a%42)\n",
    "num = set(num)\n",
    "print(len(num))"
   ]
  },
  {
   "cell_type": "code",
   "execution_count": 22,
   "id": "54bc0022",
   "metadata": {},
   "outputs": [
    {
     "name": "stdout",
     "output_type": "stream",
     "text": [
      "5\n",
      "1 2 4 8 16\n",
      "38.75\n"
     ]
    }
   ],
   "source": [
    "n = int(input())\n",
    "score = list(map(int,input().split()))\n",
    "\n",
    "M = max(score)\n",
    "\n",
    "cheat = sum(score)/M*100/n\n",
    "print(cheat)\n"
   ]
  },
  {
   "cell_type": "code",
   "execution_count": 30,
   "id": "267c3646",
   "metadata": {},
   "outputs": [
    {
     "name": "stdout",
     "output_type": "stream",
     "text": [
      "5\n",
      "OOXXOXXOOO\n",
      "10\n",
      "OOXXOOXXOO\n",
      "9\n",
      "OXOXOXOXOXOXOX\n",
      "7\n",
      "OOOOOOOOOO\n",
      "55\n",
      "OOOOXOOOOXOOOOX\n",
      "30\n"
     ]
    }
   ],
   "source": [
    "n = int(input())\n",
    "\n",
    "for i in range(n):\n",
    "    ans = input()\n",
    "    st = list(ans)\n",
    "    i = 1\n",
    "    score = 0\n",
    "    for a in ans:\n",
    "        if a == 'O':\n",
    "            score += i\n",
    "            i+=1\n",
    "        else:\n",
    "            i = 1\n",
    "    print(score)\n",
    "    "
   ]
  },
  {
   "cell_type": "code",
   "execution_count": 38,
   "id": "a461b663",
   "metadata": {},
   "outputs": [
    {
     "name": "stdout",
     "output_type": "stream",
     "text": [
      "5\n",
      "5 50 50 70 80 100\n",
      "40.000%\n",
      "7 100 95 90 80 70 60 50\n",
      "57.143%\n",
      "3 70 90 80\n",
      "33.333%\n",
      "3 70 90 81\n",
      "66.667%\n",
      "9 100 99 98 97 96 95 94 93 91\n",
      "55.556%\n"
     ]
    }
   ],
   "source": [
    "n = int(input())\n",
    "for i in range(n):\n",
    "    score = list(map(int,input().split()))\n",
    "    ave = sum(score[1:])/score[0]\n",
    "    count=0\n",
    "    for j in score[1:]:\n",
    "        if j > ave:\n",
    "            count+=1\n",
    "    ratio = count/score[0]*100\n",
    "    print(f'{ratio:.3f}%')"
   ]
  },
  {
   "cell_type": "code",
   "execution_count": null,
   "id": "5813d3bf",
   "metadata": {},
   "outputs": [],
   "source": []
  }
 ],
 "metadata": {
  "kernelspec": {
   "display_name": "Python 3",
   "language": "python",
   "name": "python3"
  },
  "language_info": {
   "codemirror_mode": {
    "name": "ipython",
    "version": 3
   },
   "file_extension": ".py",
   "mimetype": "text/x-python",
   "name": "python",
   "nbconvert_exporter": "python",
   "pygments_lexer": "ipython3",
   "version": "3.8.8"
  }
 },
 "nbformat": 4,
 "nbformat_minor": 5
}
